{
 "cells": [
  {
   "cell_type": "markdown",
   "metadata": {},
   "source": [
    "# OR and XOR by Perceptron"
   ]
  },
  {
   "cell_type": "markdown",
   "metadata": {
    "collapsed": true
   },
   "source": [
    "# Exercises\n",
    "1. Question: if we reduce the number of iterations what would you think would happen with 'accuracy' and the separation line?\n",
    "    At what threshold would a decreasing number of iterations fail the correct inference?\n",
    "2. Do the same for the OR function. The OR function only has a 0 (FALSE) output if both the inputs are 0 (FALSE). \n",
    "See https://en.wikipedia.org/wiki/Boolean_algebra\n",
    "3. Do the same for the XOR function."
   ]
  },
  {
   "cell_type": "code",
   "execution_count": 7,
   "metadata": {
    "collapsed": true
   },
   "outputs": [],
   "source": [
    "import numpy as np\n",
    "import matplotlib.pyplot as plt\n",
    "#import sklearn.linear_model.perceptron as p\n",
    "from sklearn.linear_model import perceptron\n",
    " \n",
    "# Needed to show the plots inline\n",
    "%matplotlib inline"
   ]
  },
  {
   "cell_type": "markdown",
   "metadata": {},
   "source": [
    "## Solutions of Exercises\n",
    "### 1. Reduce the number of experiments for the AND, and find consequence for accuracy"
   ]
  },
  {
   "cell_type": "code",
   "execution_count": 8,
   "metadata": {},
   "outputs": [
    {
     "name": "stdout",
     "output_type": "stream",
     "text": [
      "Prediction [0 1 0 1]\n",
      "Actual     [0 0 0 1]\n",
      "Accuracy   75.0%\n",
      "Coefficient 0 0.004\n",
      "Coefficient 1 0.002\n",
      "Bias [-0.002]\n",
      "Slope: -2.0, y-intercept: 1.0\n"
     ]
    },
    {
     "data": {
      "image/png": "[encoded data removed]",
      "text/plain": [
       "<matplotlib.figure.Figure at 0x9d5d748>"
      ]
     },
     "metadata": {},
     "output_type": "display_data"
    }
   ],
   "source": [
    "# Data\n",
    "d = np.array([\n",
    "[0, 0, 1, 1],\n",
    "[0, 1, 0, 1]\n",
    "])\n",
    " \n",
    "# Labels\n",
    "t = np.array([0, 0, 0, 1])\n",
    "\n",
    "# rotate the data 270 degrees\n",
    "d90 = np.rot90(d)\n",
    "d180 = np.rot90(d90)\n",
    "d270 = np.rot90(d180)\n",
    " \n",
    "# Create the model: train with d270!\n",
    "net = perceptron.Perceptron(n_iter=3, verbose=0, random_state=None, fit_intercept=True, eta0=0.002)\n",
    "net.fit(d270,t)\n",
    " \n",
    "# Print the results\n",
    "print \"Prediction \" + str(net.predict(d270))       # Use the model: infer with d270\n",
    "print \"Actual     \" + str(t)\n",
    "print \"Accuracy   \" + str(net.score(d270, t)*100) + \"%\"\n",
    "\n",
    "# Plot AND with decision line\n",
    "colormap = np.array(['r', 'b'])\n",
    "plt.scatter(d[0], d[1], c=colormap[t], s=40)\n",
    " \n",
    "# Output the values\n",
    "print \"Coefficient 0 \" + str(net.coef_[0,0])\n",
    "print \"Coefficient 1 \" + str(net.coef_[0,1])\n",
    "print \"Bias \" + str(net.intercept_)\n",
    " \n",
    "# Calc the hyperplane (decision boundary)\n",
    "ymin, ymax = plt.ylim()\n",
    "w = net.coef_[0]\n",
    "a = -w[0] / w[1]\n",
    "xx = np.linspace(ymin, ymax)\n",
    "yy = a * xx - (net.intercept_[0]) / w[1]\n",
    " \n",
    "# Plot the line\n",
    "plt.plot(yy,xx, 'k-')\n",
    "print \"Slope: \" + str(a) + \", y-intercept: \" + str(- (net.intercept_[0]) / w[1])"
   ]
  },
  {
   "cell_type": "markdown",
   "metadata": {},
   "source": [
    "### 2. Process the data for the OR"
   ]
  },
  {
   "cell_type": "code",
   "execution_count": 9,
   "metadata": {},
   "outputs": [],
   "source": [
    "# Data\n",
    "d = np.array([\n",
    "[0, 0, 1, 1],\n",
    "[0, 1, 0, 1]\n",
    "])\n",
    " \n",
    "# Labels\n",
    "t = np.array([0, 1, 1, 1])"
   ]
  },
  {
   "cell_type": "markdown",
   "metadata": {},
   "source": [
    "Plot points"
   ]
  },
  {
   "cell_type": "code",
   "execution_count": 10,
   "metadata": {},
   "outputs": [
    {
     "data": {
      "text/plain": [
       "<matplotlib.collections.PathCollection at 0xa1f6470>"
      ]
     },
     "execution_count": 10,
     "metadata": {},
     "output_type": "execute_result"
    },
    {
     "data": {
      "image/png": "[encoded data removed]",
      "text/plain": [
       "<matplotlib.figure.Figure at 0x9efb828>"
      ]
     },
     "metadata": {},
     "output_type": "display_data"
    }
   ],
   "source": [
    "colormap = np.array(['r', 'b'])\n",
    "plt.scatter(d[0], d[1], c=colormap[t], s=40)"
   ]
  },
  {
   "cell_type": "code",
   "execution_count": 11,
   "metadata": {},
   "outputs": [
    {
     "name": "stdout",
     "output_type": "stream",
     "text": [
      "Prediction [0 1 1 1]\n",
      "Actual     [0 1 1 1]\n",
      "Accuracy   100.0%\n"
     ]
    },
    {
     "data": {
      "text/plain": [
       "array([[0, 0],\n",
       "       [1, 0],\n",
       "       [0, 1],\n",
       "       [1, 1]])"
      ]
     },
     "execution_count": 11,
     "metadata": {},
     "output_type": "execute_result"
    }
   ],
   "source": [
    "# rotate the data 270 degrees\n",
    "d90 = np.rot90(d)\n",
    "d180 = np.rot90(d90)\n",
    "d270 = np.rot90(d180)\n",
    " \n",
    "# Create the model\n",
    "net = perceptron.Perceptron(n_iter=1000, verbose=0, random_state=None, fit_intercept=True, eta0=0.002)\n",
    "net.fit(d270,t)\n",
    " \n",
    "# Print the results\n",
    "print \"Prediction \" + str(net.predict(d270))\n",
    "print \"Actual     \" + str(t)\n",
    "print \"Accuracy   \" + str(net.score(d270, t)*100) + \"%\"\n",
    "d270"
   ]
  },
  {
   "cell_type": "code",
   "execution_count": 12,
   "metadata": {},
   "outputs": [
    {
     "name": "stdout",
     "output_type": "stream",
     "text": [
      "Coefficient 0 0.004\n",
      "Coefficient 1 0.004\n",
      "Bias [-0.002]\n",
      "Slope: -1.0, y-intercept: 0.5\n"
     ]
    },
    {
     "data": {
      "image/png": "[encoded data removed]",
      "text/plain": [
       "<matplotlib.figure.Figure at 0x9ef07b8>"
      ]
     },
     "metadata": {},
     "output_type": "display_data"
    }
   ],
   "source": [
    "# Plot the original data\n",
    "plt.scatter(d[0], d[1], c=colormap[t], s=40)\n",
    " \n",
    "# Output the values\n",
    "print \"Coefficient 0 \" + str(net.coef_[0,0])\n",
    "print \"Coefficient 1 \" + str(net.coef_[0,1])\n",
    "print \"Bias \" + str(net.intercept_)\n",
    " \n",
    "# Calc the hyperplane (decision boundary)\n",
    "ymin, ymax = plt.ylim()\n",
    "w = net.coef_[0]\n",
    "a = -w[0] / w[1]\n",
    "xx = np.linspace(ymin, ymax)\n",
    "yy = a * xx - (net.intercept_[0]) / w[1]\n",
    " \n",
    "# Plot the line\n",
    "plt.plot(yy,xx, 'k-')\n",
    "print \"Slope: \" + str(a) + \", y-intercept: \" + str(- (net.intercept_[0]) / w[1])"
   ]
  },
  {
   "cell_type": "markdown",
   "metadata": {},
   "source": [
    "### 3. Now we are going to process the XOR"
   ]
  },
  {
   "cell_type": "code",
   "execution_count": 13,
   "metadata": {},
   "outputs": [
    {
     "name": "stdout",
     "output_type": "stream",
     "text": [
      "Prediction [0 0 0 0]\n",
      "Actual     [0 1 1 0]\n",
      "Accuracy   50.0%\n",
      "Coefficient 0 0.0\n",
      "Coefficient 1 0.0\n",
      "Bias [ 0.]\n",
      "Slope: nan, y-intercept: nan\n"
     ]
    },
    {
     "name": "stderr",
     "output_type": "stream",
     "text": [
      "C:\\Users\\Jan\\Anaconda2\\lib\\site-packages\\ipykernel\\__main__.py:35: RuntimeWarning: invalid value encountered in double_scalars\n",
      "C:\\Users\\Jan\\Anaconda2\\lib\\site-packages\\ipykernel\\__main__.py:37: RuntimeWarning: invalid value encountered in double_scalars\n",
      "C:\\Users\\Jan\\Anaconda2\\lib\\site-packages\\ipykernel\\__main__.py:41: RuntimeWarning: invalid value encountered in double_scalars\n"
     ]
    },
    {
     "data": {
      "image/png": "[encoded data removed]",
      "text/plain": [
       "<matplotlib.figure.Figure at 0xa3115c0>"
      ]
     },
     "metadata": {},
     "output_type": "display_data"
    }
   ],
   "source": [
    "# Data\n",
    "d = np.array([\n",
    "[0, 0, 1, 1],\n",
    "[0, 1, 0, 1]\n",
    "])\n",
    " \n",
    "# Labels\n",
    "t = np.array([0, 1, 1, 0])\n",
    "\n",
    "# rotate the data 270 degrees\n",
    "d90 = np.rot90(d)\n",
    "d180 = np.rot90(d90)\n",
    "d270 = np.rot90(d180)\n",
    " \n",
    "# Create the model: train with d270!\n",
    "net = perceptron.Perceptron(n_iter=100, verbose=0, random_state=None, fit_intercept=True, eta0=0.002)\n",
    "net.fit(d270,t)\n",
    " \n",
    "# Print the results\n",
    "print \"Prediction \" + str(net.predict(d270))       # Use the model: infer with d270\n",
    "print \"Actual     \" + str(t)\n",
    "print \"Accuracy   \" + str(net.score(d270, t)*100) + \"%\"\n",
    "\n",
    "# Plot AND with decision line\n",
    "plt.scatter(d[0], d[1], c=colormap[t], s=40)\n",
    " \n",
    "# Output the values\n",
    "print \"Coefficient 0 \" + str(net.coef_[0,0])\n",
    "print \"Coefficient 1 \" + str(net.coef_[0,1])\n",
    "print \"Bias \" + str(net.intercept_)\n",
    " \n",
    "# Calc the hyperplane (decision boundary)\n",
    "ymin, ymax = plt.ylim()\n",
    "w = net.coef_[0]\n",
    "a = -w[0] / w[1]\n",
    "xx = np.linspace(ymin, ymax)\n",
    "yy = a * xx - (net.intercept_[0]) / w[1]\n",
    " \n",
    "# Plot the line\n",
    "plt.plot(yy,xx, 'k-')\n",
    "print \"Slope: \" + str(a) + \", y-intercept: \" + str(- (net.intercept_[0]) / w[1])"
   ]
  },
  {
   "cell_type": "markdown",
   "metadata": {},
   "source": [
    "## Conclusion: it is not possible to solve the XOR problem by means of a $perceptron$ !!"
   ]
  }
 ],
 "metadata": {
  "kernelspec": {
   "display_name": "Python 3",
   "language": "python",
   "name": "python3"
  },
  "language_info": {
   "codemirror_mode": {
    "name": "ipython",
    "version": 3
   },
   "file_extension": ".py",
   "mimetype": "text/x-python",
   "name": "python",
   "nbconvert_exporter": "python",
   "pygments_lexer": "ipython3",
   "version": "3.6.1"
  }
 },
 "nbformat": 4,
 "nbformat_minor": 2
}
