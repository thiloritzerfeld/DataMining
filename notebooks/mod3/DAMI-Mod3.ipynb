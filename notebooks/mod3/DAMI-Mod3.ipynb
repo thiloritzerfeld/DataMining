{
 "cells": [
  {
   "cell_type": "markdown",
   "metadata": {},
   "source": [
    "# Module 3 notebook - pandas"
   ]
  },
  {
   "cell_type": "markdown",
   "metadata": {},
   "source": [
    "## Introduction\n",
    "\n",
    "This workbook contains my results for the assignment as specified below. I'll start, however, with a few pandas exercises from the DataCamp source:\n",
    "\n",
    "- [chapter 1 from _Manipulating DataFrames with pandas_](http://bit.ly/2ftzLk0)"
   ]
  },
  {
   "cell_type": "code",
   "execution_count": 2,
   "metadata": {},
   "outputs": [
    {
     "ename": "NameError",
     "evalue": "name 'df' is not defined",
     "output_type": "error",
     "traceback": [
      "\u001b[0;31m---------------------------------------------------------------------------\u001b[0m",
      "\u001b[0;31mNameError\u001b[0m                                 Traceback (most recent call last)",
      "\u001b[0;32m<ipython-input-2-aad0ad8457d2>\u001b[0m in \u001b[0;36m<module>\u001b[0;34m()\u001b[0m\n\u001b[1;32m      3\u001b[0m \u001b[0;34m\u001b[0m\u001b[0m\n\u001b[1;32m      4\u001b[0m \u001b[0;31m# Create array of DataFrame values: np_vals\u001b[0m\u001b[0;34m\u001b[0m\u001b[0;34m\u001b[0m\u001b[0m\n\u001b[0;32m----> 5\u001b[0;31m \u001b[0mnp_vals\u001b[0m \u001b[0;34m=\u001b[0m \u001b[0mdf\u001b[0m\u001b[0;34m.\u001b[0m\u001b[0mvalues\u001b[0m\u001b[0;34m\u001b[0m\u001b[0m\n\u001b[0m\u001b[1;32m      6\u001b[0m \u001b[0;34m\u001b[0m\u001b[0m\n\u001b[1;32m      7\u001b[0m \u001b[0;31m# Create new array of base 10 logarithm values: np_vals_log10\u001b[0m\u001b[0;34m\u001b[0m\u001b[0;34m\u001b[0m\u001b[0m\n",
      "\u001b[0;31mNameError\u001b[0m: name 'df' is not defined"
     ]
    }
   ],
   "source": [
    "# Import numpy\n",
    "import numpy as np\n",
    "\n",
    "# Create array of DataFrame values: np_vals\n",
    "np_vals = df.values\n",
    "\n",
    "# Create new array of base 10 logarithm values: np_vals_log10\n",
    "np_vals_log10 = np.log10(np_vals)\n",
    "\n",
    "# Create array of new DataFrame by passing df to np.log10(): df_log10\n",
    "df_log10 = np.log10(df)\n",
    "\n",
    "# Print original and new data containers\n",
    "print(type(np_vals), type(np_vals_log10))\n",
    "print(type(df), type(df_log10))\n"
   ]
  },
  {
   "cell_type": "code",
   "execution_count": 3,
   "metadata": {},
   "outputs": [
    {
     "ename": "NameError",
     "evalue": "name 'list_keys' is not defined",
     "output_type": "error",
     "traceback": [
      "\u001b[0;31m---------------------------------------------------------------------------\u001b[0m",
      "\u001b[0;31mNameError\u001b[0m                                 Traceback (most recent call last)",
      "\u001b[0;32m<ipython-input-3-66fb0ea5e2c8>\u001b[0m in \u001b[0;36m<module>\u001b[0;34m()\u001b[0m\n\u001b[1;32m      1\u001b[0m \u001b[0;31m# Zip the 2 lists together into one list of (key,value) tuples: zipped\u001b[0m\u001b[0;34m\u001b[0m\u001b[0;34m\u001b[0m\u001b[0m\n\u001b[0;32m----> 2\u001b[0;31m \u001b[0mzipped\u001b[0m \u001b[0;34m=\u001b[0m \u001b[0mlist\u001b[0m\u001b[0;34m(\u001b[0m\u001b[0mzip\u001b[0m\u001b[0;34m(\u001b[0m\u001b[0mlist_keys\u001b[0m\u001b[0;34m,\u001b[0m \u001b[0mlist_values\u001b[0m\u001b[0;34m)\u001b[0m\u001b[0;34m)\u001b[0m\u001b[0;34m\u001b[0m\u001b[0m\n\u001b[0m\u001b[1;32m      3\u001b[0m \u001b[0;34m\u001b[0m\u001b[0m\n\u001b[1;32m      4\u001b[0m \u001b[0;31m# Inspect the list using print()\u001b[0m\u001b[0;34m\u001b[0m\u001b[0;34m\u001b[0m\u001b[0m\n\u001b[1;32m      5\u001b[0m \u001b[0mprint\u001b[0m\u001b[0;34m(\u001b[0m\u001b[0mzipped\u001b[0m\u001b[0;34m)\u001b[0m\u001b[0;34m\u001b[0m\u001b[0m\n",
      "\u001b[0;31mNameError\u001b[0m: name 'list_keys' is not defined"
     ]
    }
   ],
   "source": [
    "# Zip the 2 lists together into one list of (key,value) tuples: zipped\n",
    "zipped = list(zip(list_keys, list_values))\n",
    "\n",
    "# Inspect the list using print()\n",
    "print(zipped)\n",
    "\n",
    "# Build a dictionary with the zipped list: data\n",
    "data = dict(zipped)\n",
    "\n",
    "# Build and inspect a DataFrame from the dictionary: df\n",
    "df = pd.DataFrame(data)\n",
    "print(df)\n"
   ]
  },
  {
   "cell_type": "code",
   "execution_count": 4,
   "metadata": {},
   "outputs": [
    {
     "ename": "NameError",
     "evalue": "name 'df' is not defined",
     "output_type": "error",
     "traceback": [
      "\u001b[0;31m---------------------------------------------------------------------------\u001b[0m",
      "\u001b[0;31mNameError\u001b[0m                                 Traceback (most recent call last)",
      "\u001b[0;32m<ipython-input-4-9ed198161c52>\u001b[0m in \u001b[0;36m<module>\u001b[0;34m()\u001b[0m\n\u001b[1;32m      3\u001b[0m \u001b[0;34m\u001b[0m\u001b[0m\n\u001b[1;32m      4\u001b[0m \u001b[0;31m# Assign the list of labels to the columns attribute: df.columns\u001b[0m\u001b[0;34m\u001b[0m\u001b[0;34m\u001b[0m\u001b[0m\n\u001b[0;32m----> 5\u001b[0;31m \u001b[0mdf\u001b[0m\u001b[0;34m.\u001b[0m\u001b[0mcolumns\u001b[0m \u001b[0;34m=\u001b[0m \u001b[0mlist_labels\u001b[0m\u001b[0;34m\u001b[0m\u001b[0m\n\u001b[0m",
      "\u001b[0;31mNameError\u001b[0m: name 'df' is not defined"
     ]
    }
   ],
   "source": [
    "# Build a list of labels: list_labels\n",
    "list_labels = ['year', 'artist', 'song', 'chart weeks']\n",
    "\n",
    "# Assign the list of labels to the columns attribute: df.columns\n",
    "df.columns = list_labels\n"
   ]
  },
  {
   "cell_type": "code",
   "execution_count": 5,
   "metadata": {},
   "outputs": [
    {
     "ename": "NameError",
     "evalue": "name 'cities' is not defined",
     "output_type": "error",
     "traceback": [
      "\u001b[0;31m---------------------------------------------------------------------------\u001b[0m",
      "\u001b[0;31mNameError\u001b[0m                                 Traceback (most recent call last)",
      "\u001b[0;32m<ipython-input-5-dc296d6dd5e8>\u001b[0m in \u001b[0;36m<module>\u001b[0;34m()\u001b[0m\n\u001b[1;32m      4\u001b[0m \u001b[0;34m\u001b[0m\u001b[0m\n\u001b[1;32m      5\u001b[0m \u001b[0;31m# Construct a dictionary: data\u001b[0m\u001b[0;34m\u001b[0m\u001b[0;34m\u001b[0m\u001b[0m\n\u001b[0;32m----> 6\u001b[0;31m \u001b[0mdata\u001b[0m \u001b[0;34m=\u001b[0m \u001b[0;34m{\u001b[0m\u001b[0;34m'state'\u001b[0m\u001b[0;34m:\u001b[0m\u001b[0mstate\u001b[0m\u001b[0;34m,\u001b[0m \u001b[0;34m'city'\u001b[0m\u001b[0;34m:\u001b[0m\u001b[0mcities\u001b[0m\u001b[0;34m}\u001b[0m\u001b[0;34m\u001b[0m\u001b[0m\n\u001b[0m\u001b[1;32m      7\u001b[0m \u001b[0;34m\u001b[0m\u001b[0m\n\u001b[1;32m      8\u001b[0m \u001b[0;31m# Construct a DataFrame from dictionary data: df\u001b[0m\u001b[0;34m\u001b[0m\u001b[0;34m\u001b[0m\u001b[0m\n",
      "\u001b[0;31mNameError\u001b[0m: name 'cities' is not defined"
     ]
    }
   ],
   "source": [
    "\n",
    "# Make a string with the value 'PA': state\n",
    "state = 'PA'\n",
    "\n",
    "# Construct a dictionary: data\n",
    "data = {'state':state, 'city':cities}\n",
    "\n",
    "# Construct a DataFrame from dictionary data: df\n",
    "df = pd.DataFrame(data)\n",
    "\n",
    "# Print the DataFrame\n",
    "print(df)\n"
   ]
  },
  {
   "cell_type": "code",
   "execution_count": 6,
   "metadata": {},
   "outputs": [
    {
     "ename": "NameError",
     "evalue": "name 'pd' is not defined",
     "output_type": "error",
     "traceback": [
      "\u001b[0;31m---------------------------------------------------------------------------\u001b[0m",
      "\u001b[0;31mNameError\u001b[0m                                 Traceback (most recent call last)",
      "\u001b[0;32m<ipython-input-6-681fceab86fb>\u001b[0m in \u001b[0;36m<module>\u001b[0;34m()\u001b[0m\n\u001b[1;32m      1\u001b[0m \u001b[0;31m# Read in the file: df1\u001b[0m\u001b[0;34m\u001b[0m\u001b[0;34m\u001b[0m\u001b[0m\n\u001b[0;32m----> 2\u001b[0;31m \u001b[0mdf1\u001b[0m \u001b[0;34m=\u001b[0m \u001b[0mpd\u001b[0m\u001b[0;34m.\u001b[0m\u001b[0mread_csv\u001b[0m\u001b[0;34m(\u001b[0m\u001b[0;34m'world_population.csv'\u001b[0m\u001b[0;34m)\u001b[0m\u001b[0;34m\u001b[0m\u001b[0m\n\u001b[0m\u001b[1;32m      3\u001b[0m \u001b[0;34m\u001b[0m\u001b[0m\n\u001b[1;32m      4\u001b[0m \u001b[0;31m# Create a list of the new column labels: new_labels\u001b[0m\u001b[0;34m\u001b[0m\u001b[0;34m\u001b[0m\u001b[0m\n\u001b[1;32m      5\u001b[0m \u001b[0mnew_labels\u001b[0m \u001b[0;34m=\u001b[0m \u001b[0;34m[\u001b[0m\u001b[0;34m'year'\u001b[0m\u001b[0;34m,\u001b[0m \u001b[0;34m'population'\u001b[0m\u001b[0;34m]\u001b[0m\u001b[0;34m\u001b[0m\u001b[0m\n",
      "\u001b[0;31mNameError\u001b[0m: name 'pd' is not defined"
     ]
    }
   ],
   "source": [
    "# Read in the file: df1\n",
    "df1 = pd.read_csv('world_population.csv')\n",
    "\n",
    "# Create a list of the new column labels: new_labels\n",
    "new_labels = ['year', 'population']\n",
    "\n",
    "# Read in the file, specifying the header and names parameters: df2\n",
    "df2 = pd.read_csv('world_population.csv', header=0, names=new_labels)\n",
    "\n",
    "# Print both the DataFrames\n",
    "print(df1)\n",
    "print(df2)"
   ]
  },
  {
   "cell_type": "code",
   "execution_count": 7,
   "metadata": {},
   "outputs": [
    {
     "ename": "NameError",
     "evalue": "name 'pd' is not defined",
     "output_type": "error",
     "traceback": [
      "\u001b[0;31m---------------------------------------------------------------------------\u001b[0m",
      "\u001b[0;31mNameError\u001b[0m                                 Traceback (most recent call last)",
      "\u001b[0;32m<ipython-input-7-e5b7fa8201ac>\u001b[0m in \u001b[0;36m<module>\u001b[0;34m()\u001b[0m\n\u001b[1;32m      1\u001b[0m \u001b[0;31m# Read the raw file as-is: df1\u001b[0m\u001b[0;34m\u001b[0m\u001b[0;34m\u001b[0m\u001b[0m\n\u001b[0;32m----> 2\u001b[0;31m \u001b[0mdf1\u001b[0m \u001b[0;34m=\u001b[0m \u001b[0mpd\u001b[0m\u001b[0;34m.\u001b[0m\u001b[0mread_csv\u001b[0m\u001b[0;34m(\u001b[0m\u001b[0mfile_messy\u001b[0m\u001b[0;34m)\u001b[0m\u001b[0;34m\u001b[0m\u001b[0m\n\u001b[0m\u001b[1;32m      3\u001b[0m \u001b[0;34m\u001b[0m\u001b[0m\n\u001b[1;32m      4\u001b[0m \u001b[0;31m# Print the output of df1.head()\u001b[0m\u001b[0;34m\u001b[0m\u001b[0;34m\u001b[0m\u001b[0m\n\u001b[1;32m      5\u001b[0m \u001b[0mprint\u001b[0m\u001b[0;34m(\u001b[0m\u001b[0mdf1\u001b[0m\u001b[0;34m.\u001b[0m\u001b[0mhead\u001b[0m\u001b[0;34m(\u001b[0m\u001b[0;34m)\u001b[0m\u001b[0;34m)\u001b[0m\u001b[0;34m\u001b[0m\u001b[0m\n",
      "\u001b[0;31mNameError\u001b[0m: name 'pd' is not defined"
     ]
    }
   ],
   "source": [
    "# Read the raw file as-is: df1\n",
    "df1 = pd.read_csv(file_messy)\n",
    "\n",
    "# Print the output of df1.head()\n",
    "print(df1.head())\n",
    "\n",
    "# Read in the file with the correct parameters: df2\n",
    "df2 = pd.read_csv(file_messy, delimiter=' ', header=3, comment='#')\n",
    "\n",
    "# Print the output of df2.head()\n",
    "print(df2.head())\n",
    "\n",
    "# Save the cleaned up DataFrame to a CSV file without the index\n",
    "df2.to_csv(file_clean, index=False)\n",
    "\n",
    "# Save the cleaned up DataFrame to an excel file without the index\n",
    "df2.to_excel('file_clean.xlsx', index=False)\n"
   ]
  },
  {
   "cell_type": "code",
   "execution_count": 8,
   "metadata": {},
   "outputs": [
    {
     "ename": "NameError",
     "evalue": "name 'df' is not defined",
     "output_type": "error",
     "traceback": [
      "\u001b[0;31m---------------------------------------------------------------------------\u001b[0m",
      "\u001b[0;31mNameError\u001b[0m                                 Traceback (most recent call last)",
      "\u001b[0;32m<ipython-input-8-da7a5f86ef91>\u001b[0m in \u001b[0;36m<module>\u001b[0;34m()\u001b[0m\n\u001b[1;32m      1\u001b[0m \u001b[0;31m# Create a plot with color='red'\u001b[0m\u001b[0;34m\u001b[0m\u001b[0;34m\u001b[0m\u001b[0m\n\u001b[0;32m----> 2\u001b[0;31m \u001b[0mdf\u001b[0m\u001b[0;34m.\u001b[0m\u001b[0mplot\u001b[0m\u001b[0;34m(\u001b[0m\u001b[0mcolor\u001b[0m\u001b[0;34m=\u001b[0m\u001b[0;34m'red'\u001b[0m\u001b[0;34m)\u001b[0m\u001b[0;34m\u001b[0m\u001b[0m\n\u001b[0m\u001b[1;32m      3\u001b[0m \u001b[0;34m\u001b[0m\u001b[0m\n\u001b[1;32m      4\u001b[0m \u001b[0;31m# Add a title\u001b[0m\u001b[0;34m\u001b[0m\u001b[0;34m\u001b[0m\u001b[0m\n\u001b[1;32m      5\u001b[0m \u001b[0mplt\u001b[0m\u001b[0;34m.\u001b[0m\u001b[0mtitle\u001b[0m\u001b[0;34m(\u001b[0m\u001b[0;34m(\u001b[0m\u001b[0;34m'Temperature in Austin'\u001b[0m\u001b[0;34m)\u001b[0m\u001b[0;34m)\u001b[0m\u001b[0;34m\u001b[0m\u001b[0m\n",
      "\u001b[0;31mNameError\u001b[0m: name 'df' is not defined"
     ]
    }
   ],
   "source": [
    "# Create a plot with color='red'\n",
    "df.plot(color='red')\n",
    "\n",
    "# Add a title\n",
    "plt.title(('Temperature in Austin'))\n",
    "\n",
    "# Specify the x-axis label\n",
    "plt.xlabel ('Hours since midnight August 1, 2010')\n",
    "\n",
    "# Specify the y-axis label\n",
    "plt.ylabel('Temperature (degrees F)')\n",
    "\n",
    "# Display the plot\n",
    "plt.show()\n"
   ]
  },
  {
   "cell_type": "code",
   "execution_count": 9,
   "metadata": {},
   "outputs": [
    {
     "ename": "NameError",
     "evalue": "name 'df' is not defined",
     "output_type": "error",
     "traceback": [
      "\u001b[0;31m---------------------------------------------------------------------------\u001b[0m",
      "\u001b[0;31mNameError\u001b[0m                                 Traceback (most recent call last)",
      "\u001b[0;32m<ipython-input-9-c30a697bf10c>\u001b[0m in \u001b[0;36m<module>\u001b[0;34m()\u001b[0m\n\u001b[1;32m      1\u001b[0m \u001b[0;31m# Plot all columns (default)\u001b[0m\u001b[0;34m\u001b[0m\u001b[0;34m\u001b[0m\u001b[0m\n\u001b[0;32m----> 2\u001b[0;31m \u001b[0mdf\u001b[0m\u001b[0;34m.\u001b[0m\u001b[0mplot\u001b[0m\u001b[0;34m(\u001b[0m\u001b[0;34m)\u001b[0m\u001b[0;34m\u001b[0m\u001b[0m\n\u001b[0m\u001b[1;32m      3\u001b[0m \u001b[0mplt\u001b[0m\u001b[0;34m.\u001b[0m\u001b[0mshow\u001b[0m\u001b[0;34m(\u001b[0m\u001b[0;34m)\u001b[0m\u001b[0;34m\u001b[0m\u001b[0m\n\u001b[1;32m      4\u001b[0m \u001b[0;34m\u001b[0m\u001b[0m\n\u001b[1;32m      5\u001b[0m \u001b[0;31m# Plot all columns as subplots\u001b[0m\u001b[0;34m\u001b[0m\u001b[0;34m\u001b[0m\u001b[0m\n",
      "\u001b[0;31mNameError\u001b[0m: name 'df' is not defined"
     ]
    }
   ],
   "source": [
    "# Plot all columns (default)\n",
    "df.plot()\n",
    "plt.show()\n",
    "\n",
    "# Plot all columns as subplots\n",
    "df.plot(subplots=True)\n",
    "plt.show()\n",
    "\n",
    "# Plot just the Dew Point data\n",
    "column_list1 = ['Dew Point (deg F)']\n",
    "df[column_list1].plot()\n",
    "plt.show()\n",
    "\n",
    "# Plot the Dew Point and Temperature data, but not the Pressure data\n",
    "column_list2 = ['Temperature (deg F)','Dew Point (deg F)']\n",
    "df[column_list2].plot()\n",
    "plt.show()\n"
   ]
  },
  {
   "cell_type": "markdown",
   "metadata": {},
   "source": [
    "## Assignment - Using pandas on my home brew data set\n",
    "\n",
    "### Introduction\n",
    "\n",
    "This assignment is an analysis exercise. It is not as much about the meaning of the analysis you will conduct as it is on the demonstration of common functionality you will use when doing data analysis with pandas. So first an for all it is a demonstration of your pandas skills.\n",
    "\n",
    "### Step 1: data set construction\n",
    "\n",
    "Construct an artificial dataset using either Excel, Google Sheets or numpy. Your constructed dataset has at least:\n",
    "\n",
    "1. 100 rows (measurements/events)\n",
    "1. 4 columns (variables)\n",
    "1. one date column with random daily dates in a period of at least 6 months\n",
    "1. 2 columns containing categorical variables\n",
    "1. 2 columns containing numerical variables\n",
    "\n",
    "You can use Excel's\n",
    "- rand()\n",
    "- randbetween()\n",
    "- norm.inv()\n",
    "- date()\n",
    "- vlookup()\n",
    "\n",
    "functions (or Google Sheets' equivalents) to construct your data set. If you use numpy. you can use the versatile random functions in it. If you wish you can polish your dataset by changing some randomly generated values by hand.\n",
    "\n",
    "Make up a story around your data. In other words: give your data meaning by explaining what your data represents. Being creative in making up your story helps you in improving the joy of doing this exercise! Even better: fabricate some compelling facts in your data that you will extract in your analysis of it.\n",
    "\n",
    "### Step 2: doing the analysis in pandas\n",
    "\n",
    "Conduct an analysis on your data set. Demonstrate your skills in using the following pandas functionality\n",
    "\n",
    "- creating indexes and multiply indices\n",
    "- stacking and unstacking indices\n",
    "- indexing and slicing using loc() and iloc()\n",
    "- using pivot table functionality\n",
    "- using grouping functionality both on categorical variables as on datetime variables\n",
    "- using basic statistical functions as count, mean, average and min/max\n",
    "- plotting (parts of) your data using pandas plotting functionality and seaborn\n",
    "\n",
    "Also, use an alternative SQL approach for one of your analysis steps. Just show that you are capable of leveraging your SQL skills in pandas.\n",
    "\n",
    "Annotate your analysis using markdown cells in your notebook. Briefly introduce each step in your analysis you take and lead your reader through your analysis. Here you have to apply your creativity to make up a sensible, interesting story for your user.\n",
    "\n",
    "Tip: consult the [Python Data Science Handbook](http://bit.ly/2ftE137). It has an excellent chapter on pandas with examples for all techniques you are asked to demonstrate."
   ]
  },
  {
   "cell_type": "code",
   "execution_count": 15,
   "metadata": {},
   "outputs": [
    {
     "name": "stdout",
     "output_type": "stream",
     "text": [
      "     Matchdays            Football clubs Country for training camp  Duration\n",
      "NaN 2015-04-12  Borussia Mönchengladbach                       USA         4\n",
      "NaN 1990-08-27         FC Bayern München                   Germany         8\n",
      "NaN 1986-05-26                RB Leipzig                   Austria         2\n",
      "NaN 1991-09-03         FC Bayern München                 Argentina         1\n",
      "NaN 2014-10-13                RB Leipzig                     Dubai         2\n",
      "NaN 2012-05-28  Borussia Mönchengladbach                    Mexico         7\n",
      "NaN 2000-09-02                RB Leipzig                   Germany        13\n",
      "NaN 2003-09-17         Borussia Dortmund                       USA        16\n",
      "NaN 2007-07-06         Borussia Dortmund                     Spain        17\n",
      "NaN 1992-04-13         Borussia Dortmund                       USA         8\n",
      "NaN 2009-09-17         FC Bayern München                   Germany         6\n",
      "NaN 2007-12-07         FC Bayern München                 Argentina         5\n",
      "NaN 1992-05-29         Borussia Dortmund                     Spain        16\n",
      "NaN 2000-05-31         FC Bayern München                   Austria        20\n",
      "NaN 2002-04-06         Borussia Dortmund                    Brasil         8\n",
      "NaN 2010-02-03         Borussia Dortmund                    Turkey         6\n",
      "NaN 1992-01-29                RB Leipzig                   Germany         5\n",
      "NaN 1999-12-13           1899 Hoffenheim                    Norway        15\n",
      "NaN 2017-03-22         Borussia Dortmund                     Spain         4\n",
      "NaN 1985-10-31         FC Bayern München                   Austria        17\n",
      "NaN 2015-11-10  Borussia Mönchengladbach                    Mexico        19\n",
      "NaN 2016-09-17  Borussia Mönchengladbach                    Mexico        19\n",
      "NaN 1985-04-30         FC Bayern München                  Portugal        15\n",
      "NaN 2001-06-06                RB Leipzig                   Germany         8\n",
      "NaN 2008-10-10         FC Bayern München                 Argentina        13\n",
      "NaN 1993-12-28         Borussia Dortmund                    Turkey         9\n",
      "NaN 1984-09-17                RB Leipzig                     Dubai        15\n",
      "NaN 1998-12-16  Borussia Mönchengladbach                    Russia         4\n",
      "NaN 2005-12-04           1899 Hoffenheim                   Austria        20\n",
      "NaN 2004-12-20         FC Bayern München                   Austria         0\n",
      "..         ...                       ...                       ...       ...\n",
      "NaN 2016-05-11           1899 Hoffenheim                   Austria        10\n",
      "NaN 1994-04-22           1899 Hoffenheim                  Portugal         0\n",
      "NaN 1991-02-16         FC Bayern München                   Austria        19\n",
      "NaN 1992-07-28         FC Bayern München                  Portugal         1\n",
      "NaN 1982-10-12                RB Leipzig                     Spain         8\n",
      "NaN 1994-09-02         Borussia Dortmund                     Spain         7\n",
      "NaN 2007-06-30  Borussia Mönchengladbach                    Russia        12\n",
      "NaN 2011-08-25  Borussia Mönchengladbach                    Russia         3\n",
      "NaN 1983-07-08         FC Bayern München                 Argentina        14\n",
      "NaN 2009-01-11  Borussia Mönchengladbach               Switzerland        19\n",
      "NaN 1988-11-24         Borussia Dortmund                     Spain        16\n",
      "NaN 2017-03-17         FC Bayern München                   Germany         8\n",
      "NaN 2012-05-02         FC Bayern München                   Germany         3\n",
      "NaN 2016-11-11         FC Bayern München                   Austria         5\n",
      "NaN 1995-06-21         FC Bayern München                   Austria        15\n",
      "NaN 1982-07-28                RB Leipzig                   Austria         9\n",
      "NaN 2006-10-16           1899 Hoffenheim                    Norway         7\n",
      "NaN 2012-11-26           1899 Hoffenheim                   Austria         0\n",
      "NaN 1993-02-03  Borussia Mönchengladbach                    Mexico        20\n",
      "NaN 2006-11-01  Borussia Mönchengladbach                    Russia         1\n",
      "NaN 2010-05-23         FC Bayern München                  Portugal         9\n",
      "NaN 1987-05-26         Borussia Dortmund                     Spain         0\n",
      "NaN 2015-12-24           1899 Hoffenheim                    Norway         2\n",
      "NaN 2004-03-10  Borussia Mönchengladbach                    Mexico        19\n",
      "NaN 2017-04-03                RB Leipzig                   Germany         7\n",
      "NaN 1981-03-30         Borussia Dortmund                     Spain         2\n",
      "NaN 2012-09-29  Borussia Mönchengladbach                    Russia         8\n",
      "NaN 1989-05-07         Borussia Dortmund                    Brasil         9\n",
      "NaN 1984-12-27                RB Leipzig                     Spain        12\n",
      "NaN 2017-10-15  Borussia Mönchengladbach                    Russia        10\n",
      "\n",
      "[100 rows x 4 columns]\n"
     ]
    }
   ],
   "source": [
    "import numpy as np\n",
    "import pandas as pd\n",
    "import matplotlib.pyplot as plt\n",
    "\n",
    "file = 'Football_randomData.xlsx'\n",
    "data = pd.read_excel(file, sheetname='Sheet1')\n",
    "print(data)\n",
    "df = pd.DataFrame({'Football clubs': [1., 2., 3.]})"
   ]
  }
 ],
 "metadata": {
  "kernelspec": {
   "display_name": "Python 3",
   "language": "python",
   "name": "python3"
  },
  "language_info": {
   "codemirror_mode": {
    "name": "ipython",
    "version": 3
   },
   "file_extension": ".py",
   "mimetype": "text/x-python",
   "name": "python",
   "nbconvert_exporter": "python",
   "pygments_lexer": "ipython3",
   "version": "3.6.3"
  }
 },
 "nbformat": 4,
 "nbformat_minor": 2
}
