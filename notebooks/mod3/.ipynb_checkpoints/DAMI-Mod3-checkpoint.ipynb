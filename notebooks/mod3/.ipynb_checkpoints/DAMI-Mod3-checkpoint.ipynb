{
 "cells": [
  {
   "cell_type": "markdown",
   "metadata": {},
   "source": [
    "# Module 3 notebook - pandas"
   ]
  },
  {
   "cell_type": "markdown",
   "metadata": {},
   "source": [
    "## Introduction\n",
    "\n",
    "This workbook contains my results for the assignment as specified below. I'll start, however, with a few pandas exercises from the DataCamp source:\n",
    "\n",
    "- [chapter 1 from _Manipulating DataFrames with pandas_](http://bit.ly/2ftzLk0)"
   ]
  },
  {
   "cell_type": "markdown",
   "metadata": {},
   "source": [
    "[your exercises go here ...]"
   ]
  },
  {
   "cell_type": "markdown",
   "metadata": {},
   "source": [
    "## Assignment - Using pandas on my home brew data set\n",
    "\n",
    "### Introduction\n",
    "\n",
    "This assignment is an analysis exercise. It is not as much about the meaning of the analysis you will conduct as it is on the demonstration of common functionality you will use when doing data analysis with pandas. So first an for all it is a demonstration of your pandas skills.\n",
    "\n",
    "### Step 1: data set construction\n",
    "\n",
    "Construct an artificial dataset using either Excel, Google Sheets or numpy. Your constructed dataset has at least:\n",
    "\n",
    "1. 100 rows (measurements/events)\n",
    "1. 4 columns (variables)\n",
    "1. one date column with random daily dates in a period of at least 6 months\n",
    "1. 2 columns containing categorical variables\n",
    "1. 2 columns containing numerical variables\n",
    "\n",
    "You can use Excel's\n",
    "- rand()\n",
    "- randbetween()\n",
    "- norm.inv()\n",
    "- date()\n",
    "- vlookup()\n",
    "\n",
    "functions (or Google Sheets' equivalents) to construct your data set. If you use numpy. you can use the versatile random functions in it. If you wish you can polish your dataset by changing some randomly generated values by hand.\n",
    "\n",
    "Make up a story around your data. In other words: give your data meaning by explaining what your data represents. Being creative in making up your story helps you in improving the joy of doing this exercise! Even better: fabricate some compelling facts in your data that you will extract in your analysis of it.\n",
    "\n",
    "### Step 2: doing the analysis in pandas\n",
    "\n",
    "Conduct an analysis on your data set. Demonstrate your skills in using the following pandas functionality\n",
    "\n",
    "- creating indexes and multiply indices\n",
    "- stacking and unstacking indices\n",
    "- indexing and slicing using loc() and iloc()\n",
    "- using pivot table functionality\n",
    "- using grouping functionality both on categorical variables as on datetime variables\n",
    "- using basic statistical functions as count, mean, average and min/max\n",
    "- plotting (parts of) your data using pandas plotting functionality and seaborn\n",
    "\n",
    "Also, use an alternative SQL approach for one of your analysis steps. Just show that you are capable of leveraging your SQL skills in pandas.\n",
    "\n",
    "Annotate your analysis using markdown cells in your notebook. Briefly introduce each step in your analysis you take and lead your reader through your analysis. Here you have to apply your creativity to make up a sensible, interesting story for your user.\n",
    "\n",
    "Tip: consult the [Python Data Science Handbook](http://bit.ly/2ftE137). It has an excellent chapter on pandas with examples for all techniques you are asked to demonstrate."
   ]
  }
 ],
 "metadata": {
  "kernelspec": {
   "display_name": "Python 3",
   "language": "python",
   "name": "python3"
  },
  "language_info": {
   "codemirror_mode": {
    "name": "ipython",
    "version": 3
   },
   "file_extension": ".py",
   "mimetype": "text/x-python",
   "name": "python",
   "nbconvert_exporter": "python",
   "pygments_lexer": "ipython3",
   "version": "3.6.1"
  }
 },
 "nbformat": 4,
 "nbformat_minor": 2
}
