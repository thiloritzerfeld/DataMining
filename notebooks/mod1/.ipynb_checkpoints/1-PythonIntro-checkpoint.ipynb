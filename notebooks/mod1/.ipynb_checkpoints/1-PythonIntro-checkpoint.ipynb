{
 "cells": [
  {
   "cell_type": "markdown",
   "metadata": {},
   "source": [
    "## Introduction"
   ]
  },
  {
   "cell_type": "markdown",
   "metadata": {},
   "source": [
    "These exercises touch only a very small subset of Python. The reason this subset has been chosen is that:\n",
    "1. It contains basic Python idiom that deviates substantially from what you are used to in languages such as C# and Java.\n",
    "2. We have to be familiar with the idiom in it as we will make extensive use of it in solving data science problems.\n",
    "\n",
    "For help in solving the exercises you can consult this online [Python tutorial](https://docs.python.org/3.4/tutorial/)."
   ]
  },
  {
   "cell_type": "markdown",
   "metadata": {},
   "source": [
    "## String Exercises"
   ]
  },
  {
   "cell_type": "markdown",
   "metadata": {},
   "source": [
    "Besides numbers, Python can also manipulate strings, which can be expressed in several ways. They can be enclosed in single quotes ('...') or double quotes (\"...\") with the same result.\n",
    "\n",
    "``str[start:end:stride]`` slices str from position start to position end taking steps of length stride. Note how the start is always included, and the end always excluded. This makes sure that ``s[:i] + s[i:]`` is always equal to ``s``. Negative strides go backwards through string. ``[:]`` (single colon) refers to all elements of a string. ``[1:]`` is equivalent to \"1 to end\".\n",
    "\n",
    "One way to remember how slices work is to think of the indices as pointing between characters, with the left edge of the first character numbered 0. Then the right edge of the last character of a string of n characters has index n, for example:\n",
    "\n",
    "<pre>\n",
    " +---+---+---+---+---+---+\n",
    " | P | y | t | h | o | n |\n",
    " +---+---+---+---+---+---+\n",
    " 0   1   2   3   4   5   6\n",
    "-6  -5  -4  -3  -2  -1\n",
    "</pre>"
   ]
  },
  {
   "cell_type": "markdown",
   "metadata": {},
   "source": [
    "#### String Indexing"
   ]
  },
  {
   "cell_type": "code",
   "execution_count": 25,
   "metadata": {},
   "outputs": [
    {
     "data": {
      "text/plain": [
       "'Fontys'"
      ]
     },
     "execution_count": 25,
     "metadata": {},
     "output_type": "execute_result"
    }
   ],
   "source": [
    "# Get the substring 'Fontys' from 'Fontys Machine Learning'\n",
    "# or, rephrased: get the first 6 characters from 'Fontys Machine Learning'\n",
    "# tip: use slicing\n",
    "\n",
    "s = 'Fontys Machine Learning'\n",
    "# <your code goes here>\n",
    "s[:6]"
   ]
  },
  {
   "cell_type": "code",
   "execution_count": 24,
   "metadata": {},
   "outputs": [
    {
     "data": {
      "text/plain": [
       "'Bicycle'"
      ]
     },
     "execution_count": 24,
     "metadata": {},
     "output_type": "execute_result"
    }
   ],
   "source": [
    "# Get the substring 'Learning' from 'Fontys Machine Learning'\n",
    "\n",
    "# <your code goes here>\n",
    "s[-8:]"
   ]
  },
  {
   "cell_type": "code",
   "execution_count": null,
   "metadata": {
    "collapsed": true
   },
   "outputs": [],
   "source": [
    "# What is the result of this expression, explain!\n",
    "'Fontys'[:] == 'Fontys'[0:len('Fontys'):1]"
   ]
  },
  {
   "cell_type": "code",
   "execution_count": 1,
   "metadata": {},
   "outputs": [
    {
     "data": {
      "text/plain": [
       "'Bye'"
      ]
     },
     "execution_count": 1,
     "metadata": {},
     "output_type": "execute_result"
    }
   ],
   "source": [
    "# Using slicing, create the string \"Bye' from 'Bicycle' (you have to collect characters at positions 0, 3 and 6)\n",
    "\n",
    "# <your code goes here>\n",
    "s = 'Bicycle'\n",
    "s[::3]"
   ]
  },
  {
   "cell_type": "code",
   "execution_count": 26,
   "metadata": {},
   "outputs": [
    {
     "data": {
      "text/plain": [
       "'sytnoF'"
      ]
     },
     "execution_count": 26,
     "metadata": {},
     "output_type": "execute_result"
    }
   ],
   "source": [
    "# Reverse the string 'Fontys'; both this is more idiomatic and substantially faster\n",
    "\n",
    "# <your code goes here>\n",
    "s = 'Fontys'\n",
    "s[::-1]"
   ]
  },
  {
   "cell_type": "code",
   "execution_count": null,
   "metadata": {
    "collapsed": true
   },
   "outputs": [],
   "source": [
    "# Using reversed() seems obvious but is tricky as reverse returns an iterable\n",
    "# in the end it leads to this contrived, though instructive example\n",
    "# Why this complexity?\n",
    "# 1st: reversed() returns an iterable object\n",
    "# 2nd: you can use str.join() to concatenate the strings in an interable"
   ]
  },
  {
   "cell_type": "code",
   "execution_count": 28,
   "metadata": {},
   "outputs": [
    {
     "ename": "AttributeError",
     "evalue": "'str' object attribute 'join' is read-only",
     "output_type": "error",
     "traceback": [
      "\u001b[0;31m---------------------------------------------------------------------------\u001b[0m",
      "\u001b[0;31mAttributeError\u001b[0m                            Traceback (most recent call last)",
      "\u001b[0;32m<ipython-input-28-6a0f9e641d2a>\u001b[0m in \u001b[0;36m<module>\u001b[0;34m()\u001b[0m\n\u001b[1;32m      3\u001b[0m \u001b[0;31m# <your code goes here>\u001b[0m\u001b[0;34m\u001b[0m\u001b[0;34m\u001b[0m\u001b[0m\n\u001b[1;32m      4\u001b[0m \u001b[0ms\u001b[0m\u001b[0;34m=\u001b[0m \u001b[0;34m'lagerregal'\u001b[0m\u001b[0;34m\u001b[0m\u001b[0m\n\u001b[0;32m----> 5\u001b[0;31m \u001b[0ms\u001b[0m\u001b[0;34m.\u001b[0m\u001b[0mjoin\u001b[0m \u001b[0;34m=\u001b[0m \u001b[0mreversed\u001b[0m\u001b[0;34m(\u001b[0m\u001b[0ms\u001b[0m\u001b[0;34m)\u001b[0m\u001b[0;34m\u001b[0m\u001b[0m\n\u001b[0m",
      "\u001b[0;31mAttributeError\u001b[0m: 'str' object attribute 'join' is read-only"
     ]
    }
   ],
   "source": [
    "# now using this reversal idiom: decide if a string is a palindrome\n",
    "\n",
    "# <your code goes here>\n"
   ]
  },
  {
   "cell_type": "markdown",
   "metadata": {},
   "source": [
    "#### Create Formatted String Output"
   ]
  },
  {
   "cell_type": "code",
   "execution_count": 2,
   "metadata": {},
   "outputs": [
    {
     "data": {
      "text/plain": [
       "'The DAMI course at FT&L has 15 students!'"
      ]
     },
     "execution_count": 2,
     "metadata": {},
     "output_type": "execute_result"
    }
   ],
   "source": [
    "# Create the string 'The {} course at {} has {}} students!' where the placeholders\n",
    "# are substituted with 'DAMI', 'FT&L' and 15\n",
    "\n",
    "'The {} course at {} has {} students!'.format('DAMI', 'FT&L', 15)"
   ]
  },
  {
   "cell_type": "markdown",
   "metadata": {},
   "source": [
    "## List Exercises"
   ]
  },
  {
   "cell_type": "markdown",
   "metadata": {},
   "source": [
    "Python knows a number of compound data types, used to group together other values. The most versatile is the list, which can be written as a list of comma-separated values (items) between square brackets. Lists might contain items of different types, but usually the items all have the same type."
   ]
  },
  {
   "cell_type": "markdown",
   "metadata": {},
   "source": [
    "#### List Creation"
   ]
  },
  {
   "cell_type": "code",
   "execution_count": 3,
   "metadata": {},
   "outputs": [
    {
     "data": {
      "text/plain": [
       "[1, 2, 3]"
      ]
     },
     "execution_count": 3,
     "metadata": {},
     "output_type": "execute_result"
    }
   ],
   "source": [
    "# Create a list of numbers 1,2,3\n",
    "[1,2,3]"
   ]
  },
  {
   "cell_type": "code",
   "execution_count": 5,
   "metadata": {},
   "outputs": [
    {
     "name": "stdout",
     "output_type": "stream",
     "text": [
      "['F', 'o', 'n', 't', 'y', 's']\n"
     ]
    },
    {
     "data": {
      "text/plain": [
       "True"
      ]
     },
     "execution_count": 5,
     "metadata": {},
     "output_type": "execute_result"
    }
   ],
   "source": [
    "# Create a list of (1-character) strings from the string 'Fontys'\n",
    "print(list('Fontys'))\n",
    "\n",
    "# It is worth thinking about why this works: the list class constructor/converter takes an iterable as argument.\n",
    "# A string can be iterated over: You can use a string as collection in a for loop, hence the iterator protocol \n",
    "# has been implemented for string (as you might have expected).\n",
    "\n",
    "# The following list comprehension should therefore also work\n",
    "list('Fontys') == [c for c in 'Fontys']"
   ]
  },
  {
   "cell_type": "code",
   "execution_count": 1,
   "metadata": {},
   "outputs": [
    {
     "data": {
      "text/plain": [
       "[1, [], 'Fontys', ['Fontys', 1]]"
      ]
     },
     "execution_count": 1,
     "metadata": {},
     "output_type": "execute_result"
    }
   ],
   "source": [
    "# Create a list of the objects 1, [], 'Fontys', ['Fontys, 1]\n",
    "[1, [], 'Fontys', ['Fontys', 1]]"
   ]
  },
  {
   "cell_type": "code",
   "execution_count": 10,
   "metadata": {},
   "outputs": [
    {
     "data": {
      "text/plain": [
       "[1, 2, 3, 4, 5, 6, 7, 8, 9, 10, 11, 12, 13, 14, 15, 16, 17, 18, 19, 20]"
      ]
     },
     "execution_count": 10,
     "metadata": {},
     "output_type": "execute_result"
    }
   ],
   "source": [
    "# Create a list for the integers between 0 and 20 ([0..20), or 0 <= n < 20)\n",
    "# Use the range() function, which is actually a type (immutable sequence) that can be iterated over.\n",
    "\n",
    "# <your code goes here>\n",
    "list(range(1,21))"
   ]
  },
  {
   "cell_type": "code",
   "execution_count": 29,
   "metadata": {},
   "outputs": [
    {
     "data": {
      "text/plain": [
       "[11, 12, 13, 14, 15, 16, 17, 18, 19, 20, 21]"
      ]
     },
     "execution_count": 29,
     "metadata": {},
     "output_type": "execute_result"
    }
   ],
   "source": [
    "# Create the integer list [11..21]\n",
    "\n",
    "# <your code goes here>\n",
    "list(range(11,22))"
   ]
  },
  {
   "cell_type": "code",
   "execution_count": 15,
   "metadata": {},
   "outputs": [
    {
     "name": "stdout",
     "output_type": "stream",
     "text": [
      "ok\n"
     ]
    }
   ],
   "source": [
    "# Create a list for all even integer numbers between 90 and 100.\n",
    "\n",
    "# l = <your code goes here>\n",
    "#l= list(range(90,100,2))\n",
    "l = [n for n in range (90, 100) if n%2==0]\n",
    "assert l == [90, 92, 94, 96, 98]\n",
    "print('ok')\n",
    "\n"
   ]
  },
  {
   "cell_type": "code",
   "execution_count": 20,
   "metadata": {},
   "outputs": [
    {
     "name": "stdout",
     "output_type": "stream",
     "text": [
      "ok\n"
     ]
    }
   ],
   "source": [
    "# Create a list of  all integers between 0 and 100 that can be divided by 3 and are uneven\n",
    "\n",
    "# l = <your code goes here>\n",
    "l = [n for n in range(100)if n%2 !=0 and n%3 == 0]\n",
    "assert l == [3, 9, 15, 21, 27, 33, 39, 45, 51, 57, 63, 69, 75, 81, 87, 93, 99]\n",
    "print('ok')"
   ]
  },
  {
   "cell_type": "markdown",
   "metadata": {},
   "source": [
    "#### List assignments"
   ]
  },
  {
   "cell_type": "code",
   "execution_count": 2,
   "metadata": {},
   "outputs": [
    {
     "name": "stdout",
     "output_type": "stream",
     "text": [
      "1\n"
     ]
    }
   ],
   "source": [
    "lst = [1,2]\n",
    "\n",
    "a,b = lst\n",
    "\n",
    "a = 5\n",
    "\n",
    "print(lst[0])"
   ]
  },
  {
   "cell_type": "code",
   "execution_count": 22,
   "metadata": {},
   "outputs": [
    {
     "data": {
      "text/plain": [
       "[[5], [6], [3]]"
      ]
     },
     "execution_count": 22,
     "metadata": {},
     "output_type": "execute_result"
    }
   ],
   "source": [
    "# Suppose the following list of lists\n",
    "lst = [[1],[2], [3]]\n",
    "lst2 = lst                 # this is a reference copy\n",
    "lst3 = lst[:]              # this is a shallow copy\n",
    "\n",
    "# Assign to named variables using sequence unpacking\n",
    "item, _, _ = lst\n",
    "\n",
    "item[0] = 5\n",
    "lst2[1] = [6]\n",
    "lst3[2] = [7]\n",
    "\n",
    "lst"
   ]
  },
  {
   "cell_type": "markdown",
   "metadata": {},
   "source": [
    "#### List Indexing and Slicing"
   ]
  },
  {
   "cell_type": "code",
   "execution_count": 23,
   "metadata": {},
   "outputs": [
    {
     "name": "stdout",
     "output_type": "stream",
     "text": [
      "1 [1,2,3,4][:] =\t [1, 2, 3, 4]\n",
      "2 [1,2,3,4][1:] =\t [2, 3, 4]\n",
      "3 [1,2,3,4][:1] =\t [1]\n",
      "4 [1,2,3,4][:-1] =\t [1, 2, 3]\n",
      "5 [1,2,3,4][0:4] =\t [1, 2, 3, 4]\n",
      "6 [1,2,3,4][0:4] =\t [1, 2, 3, 4]\n",
      "7 [1,2,3,4][1::-1] =\t [2, 1]\n",
      "8 [1,2,3,4][1::-3] =\t [2]\n",
      "9 [1,2,3,4][:] =\t [1, 2, 3, 4]\n",
      "10 [1,2,3,4][::] =\t [1, 2, 3, 4]\n",
      "11 [1,2,3,4][::1] =\t [1, 2, 3, 4]\n",
      "12 [1,2,3,4][::-1] =\t [4, 3, 2, 1]\n",
      "13 [1,2,3,4][0:4:-1] =\t []\n"
     ]
    }
   ],
   "source": [
    "# First some examples. Always remember:\n",
    "# - the list (sequence) is always traversed (processed) left to right\n",
    "# - the first index specifies the first item you want in your slice\n",
    "# - the second index specifies the first item you don’t want in your slice\n",
    "# - the third slice index is the stride length with which you step through the list to pick the elements of your slice\n",
    "\n",
    "print( 1, '[1,2,3,4][:] =\\t', [1,2,3,4][:])\n",
    "print( 2, '[1,2,3,4][1:] =\\t', [1,2,3,4][1:])\n",
    "print( 3, '[1,2,3,4][:1] =\\t', [1,2,3,4][:1])\n",
    "print( 4, '[1,2,3,4][:-1] =\\t', [1,2,3,4][:-1])\n",
    "print( 5, '[1,2,3,4][0:4] =\\t', [1,2,3,4][0:4])\n",
    "print( 6, '[1,2,3,4][0:4] =\\t', [1,2,3,4][0:4])\n",
    "print( 7, '[1,2,3,4][1::-1] =\\t', [1,2,3,4][1::-1])\n",
    "print( 8, '[1,2,3,4][1::-3] =\\t', [1,2,3,4][1::-3])\n",
    "print( 9, '[1,2,3,4][:] =\\t', [1,2,3,4][:])\n",
    "print(10, '[1,2,3,4][::] =\\t', [1,2,3,4][::])        # often used to make a complete (shallow) copy of the list\n",
    "print(11, '[1,2,3,4][::1] =\\t', [1,2,3,4][::1])\n",
    "print(12, '[1,2,3,4][::-1] =\\t', [1,2,3,4][::-1])      # often used to make a reversed copy of the list\n",
    "print(13, '[1,2,3,4][0:4:-1] =\\t', [1,2,3,4][0:4:-1])    # if stride is negative, start < stop == True"
   ]
  },
  {
   "cell_type": "code",
   "execution_count": 10,
   "metadata": {},
   "outputs": [
    {
     "name": "stdout",
     "output_type": "stream",
     "text": [
      "okay\n"
     ]
    }
   ],
   "source": [
    "# Get list [1,4] from list [1,2,3,4]\n",
    "\n",
    "# l = <your code goes here>\n",
    "\n",
    "l = [n for n in range(0,5)if n==1 or n==4]\n",
    "assert l == [1,4]\n",
    "print('okay')"
   ]
  },
  {
   "cell_type": "code",
   "execution_count": 9,
   "metadata": {},
   "outputs": [
    {
     "name": "stdout",
     "output_type": "stream",
     "text": [
      "1 3\n"
     ]
    }
   ],
   "source": [
    "# Get first and last element of any list in variables first and last\n",
    "l = [1,2,3]\n",
    "\n",
    "first, last =  l[0], l[-1]   # implicit tuple creation and unpacking\n",
    "\n",
    "print(first, last)"
   ]
  },
  {
   "cell_type": "markdown",
   "metadata": {},
   "source": [
    "#### List and String"
   ]
  },
  {
   "cell_type": "code",
   "execution_count": 22,
   "metadata": {},
   "outputs": [
    {
     "name": "stdout",
     "output_type": "stream",
     "text": [
      "ads\n"
     ]
    }
   ],
   "source": [
    "# Create the string 'ads' from list ['a', 'd', 's']\n",
    "\n",
    "# <your code goes here>\n",
    "l = ['a','d','s']\n",
    "s= ''.join(l)\n",
    "print(s)"
   ]
  },
  {
   "cell_type": "code",
   "execution_count": 3,
   "metadata": {},
   "outputs": [
    {
     "data": {
      "text/plain": [
       "True"
      ]
     },
     "execution_count": 3,
     "metadata": {},
     "output_type": "execute_result"
    }
   ],
   "source": [
    "# Why does str(['a', 'd', 's']) not work in previous exercise?\n",
    "# Answer: str() serializes each of its parameters, creating: \"['a', 'd', 's']\"\n",
    "\n",
    "str(['a', 'd', 's']) == ['a', 'd', 's'].__str__()"
   ]
  },
  {
   "cell_type": "code",
   "execution_count": 45,
   "metadata": {},
   "outputs": [
    {
     "name": "stdout",
     "output_type": "stream",
     "text": [
      "a d s\n"
     ]
    }
   ],
   "source": [
    "# Create the string 'a d s' from string 'ads'\n",
    "\n",
    "# <your code goes here>\n",
    "s = \" \";\n",
    "print (s.join('ads'))"
   ]
  },
  {
   "cell_type": "code",
   "execution_count": 15,
   "metadata": {},
   "outputs": [
    {
     "data": {
      "text/plain": [
       "[1, 2, 3]"
      ]
     },
     "execution_count": 15,
     "metadata": {},
     "output_type": "execute_result"
    }
   ],
   "source": [
    "# Create the string '123' from list [1,2,3]\n",
    "# Try: ''.join([1,2,3]); why does it not work?                  # Type error: expected str instance, int found\n",
    "\n",
    "# Tip: use a generator (generalization of comprehension) to first\n",
    "# coerce the integer list elements into charactersb\n",
    "\n",
    "# <your code goes here>\n",
    "l= list(range (1,4))\n",
    "!!!"
   ]
  },
  {
   "cell_type": "code",
   "execution_count": 21,
   "metadata": {},
   "outputs": [
    {
     "ename": "TypeError",
     "evalue": "map() must have at least two arguments.",
     "output_type": "error",
     "traceback": [
      "\u001b[0;31m---------------------------------------------------------------------------\u001b[0m",
      "\u001b[0;31mTypeError\u001b[0m                                 Traceback (most recent call last)",
      "\u001b[0;32m<ipython-input-21-5a92994b8c48>\u001b[0m in \u001b[0;36m<module>\u001b[0;34m()\u001b[0m\n\u001b[1;32m      3\u001b[0m \u001b[0;31m# <your code goes here>\u001b[0m\u001b[0;34m\u001b[0m\u001b[0;34m\u001b[0m\u001b[0m\n\u001b[1;32m      4\u001b[0m \u001b[0ml\u001b[0m\u001b[0;34m=\u001b[0m \u001b[0mlist\u001b[0m\u001b[0;34m(\u001b[0m\u001b[0mrange\u001b[0m \u001b[0;34m(\u001b[0m\u001b[0;36m1\u001b[0m\u001b[0;34m,\u001b[0m\u001b[0;36m4\u001b[0m\u001b[0;34m)\u001b[0m\u001b[0;34m)\u001b[0m\u001b[0;34m\u001b[0m\u001b[0m\n\u001b[0;32m----> 5\u001b[0;31m \u001b[0mm\u001b[0m \u001b[0;34m=\u001b[0m \u001b[0mmap\u001b[0m\u001b[0;34m(\u001b[0m\u001b[0ml\u001b[0m\u001b[0;34m)\u001b[0m\u001b[0;34m\u001b[0m\u001b[0m\n\u001b[0m\u001b[1;32m      6\u001b[0m \u001b[0mprint\u001b[0m \u001b[0;34m(\u001b[0m\u001b[0mm\u001b[0m\u001b[0;34m)\u001b[0m\u001b[0;34m\u001b[0m\u001b[0m\n",
      "\u001b[0;31mTypeError\u001b[0m: map() must have at least two arguments."
     ]
    }
   ],
   "source": [
    "# solve previous problem using the map() function\n",
    "\n",
    "# <your code goes here>\n",
    "l= list(range (1,4))\n",
    "!!!"
   ]
  },
  {
   "cell_type": "code",
   "execution_count": 28,
   "metadata": {},
   "outputs": [
    {
     "name": "stdout",
     "output_type": "stream",
     "text": [
      "<map object at 0x108d72c50>\n"
     ]
    }
   ],
   "source": [
    "# Create the (integer) list [1,2,3] from string '123'\n",
    "\n",
    "# <your code goes here>\n",
    "l = '123'\n",
    "!!!"
   ]
  },
  {
   "cell_type": "markdown",
   "metadata": {},
   "source": [
    "The method ``split(str,num)`` returns a list of all the words in the string, using ``str`` as the separator (splits on all whitespace if left unspecified), optionally limiting the number of splits to ``num``."
   ]
  },
  {
   "cell_type": "code",
   "execution_count": 26,
   "metadata": {},
   "outputs": [
    {
     "name": "stdout",
     "output_type": "stream",
     "text": [
      "['a', 'd', 's']\n"
     ]
    }
   ],
   "source": [
    "# Create the list ['a', 'd', 's'] from 'a d s' with split()\n",
    "\n",
    "# <your code goes here>\n",
    "l = 'a d s'\n",
    "s= l.split()\n",
    "print(s)"
   ]
  },
  {
   "cell_type": "markdown",
   "metadata": {},
   "source": [
    "List comprehensions provide a concise way to create lists. Common applications are to make new lists where each element is the result of some operations applied to each member of another sequence or iterable, or to create a subsequence of those elements that satisfy a certain condition.\n",
    "\n",
    "For example, assume we want to create a list of squares, like:\n",
    "\n",
    "<pre>\n",
    ">>>squares = []\n",
    ">>>for x in range(10):\n",
    "...   squares.append(x**2)\n",
    "...\n",
    ">>>squares\n",
    "[0, 1, 4, 9, 16, 25, 36, 49, 64, 81]\n",
    "</pre>\n",
    "\n",
    "Note that this creates (or overwrites) a variable named x that still exists after the loop completes. We can calculate the list of squares without any side effects using:\n",
    "\n",
    "<pre>\n",
    "squares = [x**2 for x in range(10)]\n",
    "</pre>"
   ]
  },
  {
   "cell_type": "code",
   "execution_count": null,
   "metadata": {
    "collapsed": true
   },
   "outputs": [],
   "source": [
    "# Or with list comprehension\n",
    "\n",
    "# <your code goes here>\n",
    "!!!"
   ]
  },
  {
   "cell_type": "code",
   "execution_count": null,
   "metadata": {
    "collapsed": true
   },
   "outputs": [],
   "source": [
    "# Create a function is_palindrome() that returns if a sentence (ignoring blanks, character case and punctuation) is a \n",
    "# palindrome, e.g is_palindrome('A man, a plan, a canal, Panama') == True\n",
    "# note that the s == s[-1] we saw before, won't work\n",
    "\n",
    "def is_palindrome(s):\n",
    "    # your code goes here\n",
    "    \n",
    "is_palindrome('A man, a plan, a canal, Panama')"
   ]
  },
  {
   "cell_type": "code",
   "execution_count": null,
   "metadata": {
    "collapsed": true
   },
   "outputs": [],
   "source": [
    "def last_word_length(text):\n",
    "    return 0\n",
    "\n",
    "assert last_word_length('') == 0\n",
    "assert last_word_length('last   ') == 4\n",
    "assert last_word_length('Learn machine learning at Fontys Venlo') == 5\n",
    "print('ok')"
   ]
  },
  {
   "cell_type": "markdown",
   "metadata": {},
   "source": [
    "## Tuple Exercises"
   ]
  },
  {
   "cell_type": "markdown",
   "metadata": {},
   "source": [
    "We saw that lists and strings have many common properties, such as indexing and slicing operations. They are two examples of sequence data types. Since Python is an evolving language, other sequence data types may be added. There is also another standard sequence data type: the tuple.\n",
    "\n",
    "A tuple consists of a number of values separated by commas."
   ]
  },
  {
   "cell_type": "code",
   "execution_count": null,
   "metadata": {
    "collapsed": true
   },
   "outputs": [],
   "source": [
    "# Create the list of tuples [(1, 2), (3, 4)] from [1, 2, 3, 4]\n",
    "l = [1, 2, 3, 4]\n",
    "\n",
    "# the non-idiomatic way would be:\n",
    "l1 = []\n",
    "for i in range(0, len(l)-1, 2):\n",
    "    l1.append((l[i], l[i+1]))\n",
    "assert l1 == [(1, 2), (3, 4)]\n",
    "\n",
    "# Use additional asserts to test what happens if l is the empty list, has 1, 2 or any uneven number of elements"
   ]
  },
  {
   "cell_type": "code",
   "execution_count": 29,
   "metadata": {},
   "outputs": [
    {
     "ename": "NameError",
     "evalue": "name 'l1' is not defined",
     "output_type": "error",
     "traceback": [
      "\u001b[0;31m---------------------------------------------------------------------------\u001b[0m",
      "\u001b[0;31mNameError\u001b[0m                                 Traceback (most recent call last)",
      "\u001b[0;32m<ipython-input-29-b878c58d6d8f>\u001b[0m in \u001b[0;36m<module>\u001b[0;34m()\u001b[0m\n\u001b[1;32m      2\u001b[0m \u001b[0;34m\u001b[0m\u001b[0m\n\u001b[1;32m      3\u001b[0m \u001b[0;31m# <your code goes here>\u001b[0m\u001b[0;34m\u001b[0m\u001b[0;34m\u001b[0m\u001b[0m\n\u001b[0;32m----> 4\u001b[0;31m \u001b[0;32massert\u001b[0m \u001b[0ml1\u001b[0m \u001b[0;34m==\u001b[0m \u001b[0;34m[\u001b[0m\u001b[0;34m(\u001b[0m\u001b[0;36m1\u001b[0m\u001b[0;34m,\u001b[0m \u001b[0;36m2\u001b[0m\u001b[0;34m)\u001b[0m\u001b[0;34m,\u001b[0m \u001b[0;34m(\u001b[0m\u001b[0;36m3\u001b[0m\u001b[0;34m,\u001b[0m \u001b[0;36m4\u001b[0m\u001b[0;34m)\u001b[0m\u001b[0;34m]\u001b[0m\u001b[0;34m\u001b[0m\u001b[0m\n\u001b[0m\u001b[1;32m      5\u001b[0m \u001b[0mprint\u001b[0m\u001b[0;34m(\u001b[0m\u001b[0;34m'ok)'\u001b[0m\u001b[0;34m)\u001b[0m\u001b[0;34m\u001b[0m\u001b[0m\n",
      "\u001b[0;31mNameError\u001b[0m: name 'l1' is not defined"
     ]
    }
   ],
   "source": [
    "# Create the list of tuples the idiomatic way, using list comprehension\n",
    "\n",
    "# <your code goes here>\n",
    "assert l1 == [(1, 2), (3, 4)]\n",
    "print('ok)')\n",
    "!!!"
   ]
  },
  {
   "cell_type": "code",
   "execution_count": 30,
   "metadata": {},
   "outputs": [
    {
     "ename": "NameError",
     "evalue": "name 'l1' is not defined",
     "output_type": "error",
     "traceback": [
      "\u001b[0;31m---------------------------------------------------------------------------\u001b[0m",
      "\u001b[0;31mNameError\u001b[0m                                 Traceback (most recent call last)",
      "\u001b[0;32m<ipython-input-30-4f47f41e983f>\u001b[0m in \u001b[0;36m<module>\u001b[0;34m()\u001b[0m\n\u001b[1;32m      2\u001b[0m \u001b[0;34m\u001b[0m\u001b[0m\n\u001b[1;32m      3\u001b[0m \u001b[0;31m# <your code goes here>\u001b[0m\u001b[0;34m\u001b[0m\u001b[0;34m\u001b[0m\u001b[0m\n\u001b[0;32m----> 4\u001b[0;31m \u001b[0;32massert\u001b[0m \u001b[0ml1\u001b[0m \u001b[0;34m==\u001b[0m \u001b[0;34m[\u001b[0m\u001b[0;34m(\u001b[0m\u001b[0;36m1\u001b[0m\u001b[0;34m,\u001b[0m \u001b[0;36m2\u001b[0m\u001b[0;34m)\u001b[0m\u001b[0;34m,\u001b[0m \u001b[0;34m(\u001b[0m\u001b[0;36m3\u001b[0m\u001b[0;34m,\u001b[0m \u001b[0;36m4\u001b[0m\u001b[0;34m)\u001b[0m\u001b[0;34m]\u001b[0m\u001b[0;34m\u001b[0m\u001b[0m\n\u001b[0m\u001b[1;32m      5\u001b[0m \u001b[0mprint\u001b[0m\u001b[0;34m(\u001b[0m\u001b[0;34m'ok)'\u001b[0m\u001b[0;34m)\u001b[0m\u001b[0;34m\u001b[0m\u001b[0m\n\u001b[1;32m      6\u001b[0m \u001b[0mget_ipython\u001b[0m\u001b[0;34m(\u001b[0m\u001b[0;34m)\u001b[0m\u001b[0;34m.\u001b[0m\u001b[0mgetoutput\u001b[0m\u001b[0;34m(\u001b[0m\u001b[0;34m'!'\u001b[0m\u001b[0;34m)\u001b[0m\u001b[0;34m\u001b[0m\u001b[0m\n",
      "\u001b[0;31mNameError\u001b[0m: name 'l1' is not defined"
     ]
    }
   ],
   "source": [
    "# Now, create the same list of tuples using zip()\n",
    "\n",
    "# <your code goes here>\n",
    "assert l1 == [(1, 2), (3, 4)]\n",
    "print('ok)')\n",
    "!!!"
   ]
  },
  {
   "cell_type": "code",
   "execution_count": null,
   "metadata": {
    "collapsed": true
   },
   "outputs": [],
   "source": [
    "# Flatten the list of tuples [(1, 2), (3, 4)] to [1, 2, 3, 4]\n",
    "lt = [(1, 2), (3, 4)]\n",
    "\n",
    "# With a loop\n",
    "\n",
    "# <your code goes here>\n",
    "assert l1 == [1, 2, 3, 4]\n",
    "print('ok)')\n",
    "!!!"
   ]
  },
  {
   "cell_type": "code",
   "execution_count": null,
   "metadata": {
    "collapsed": true
   },
   "outputs": [],
   "source": [
    "# With list comprehension\n",
    "\n",
    "# <your code goes here>\n",
    "assert l1 == [1, 2, 3, 4]\n",
    "print('ok)')\n",
    "!!!"
   ]
  },
  {
   "cell_type": "code",
   "execution_count": null,
   "metadata": {
    "collapsed": true
   },
   "outputs": [],
   "source": [
    "# Explain (by consulting the ref manual) why this also works\n",
    "list(sum(lt, ()))\n"
   ]
  },
  {
   "cell_type": "markdown",
   "metadata": {},
   "source": [
    "This works because _[... your explanantion here]_"
   ]
  },
  {
   "cell_type": "code",
   "execution_count": null,
   "metadata": {
    "collapsed": true
   },
   "outputs": [],
   "source": [
    "# Now stretch this and sum all numbers in lt\n",
    "# make use of function sum() and the fact that it is an overload function:\n",
    "# sum() has different meanings for numbers and for lists! See ?sum\n",
    "\n",
    "# <your code goes here>\n",
    "assert n == 10\n",
    "print('ok)')\n",
    "!!!"
   ]
  },
  {
   "cell_type": "code",
   "execution_count": null,
   "metadata": {
    "collapsed": true
   },
   "outputs": [],
   "source": [
    "'lgh@fontys.nl'.split('@')"
   ]
  },
  {
   "cell_type": "code",
   "execution_count": null,
   "metadata": {
    "collapsed": true
   },
   "outputs": [],
   "source": [
    "# Split mail address lgh@fontys.nl in user name (lgh) and domain\n",
    "# using a format string specifier, create the string 'lgh(at)fontys.nl' from addr\n",
    "# you could use the parameter unpacking operator *\n",
    "'{}(at){}'.format(*addr.split('@'))"
   ]
  },
  {
   "cell_type": "markdown",
   "metadata": {},
   "source": [
    "## List as Matrix Exercises"
   ]
  },
  {
   "cell_type": "markdown",
   "metadata": {
    "collapsed": true
   },
   "source": [
    "A matrix constructed from lists is a list of lists"
   ]
  },
  {
   "cell_type": "code",
   "execution_count": null,
   "metadata": {
    "collapsed": true
   },
   "outputs": [],
   "source": [
    "# Add a P(ass), F(ail) mark to a list of numeric marks\n",
    "# transform [6,4,7] into the matrix [[6,'P'], [4,'F'], [7,'P']]\n",
    "\n",
    "marks = [6, 4, 7]\n",
    "\n",
    "# With a for loop\n",
    "l = []\n",
    "for m in marks:\n",
    "    l.append([m, 'P' if m > 5 else 'F'])\n",
    "l"
   ]
  },
  {
   "cell_type": "code",
   "execution_count": null,
   "metadata": {
    "collapsed": true
   },
   "outputs": [],
   "source": [
    "# With list comprehension (more idiomatic)\n",
    "[[m, 'P' if m > 5 else 'F'] for m in marks]"
   ]
  },
  {
   "cell_type": "code",
   "execution_count": 3,
   "metadata": {},
   "outputs": [
    {
     "data": {
      "text/plain": [
       "[[1, 4], [2, 5], [3, 6]]"
      ]
     },
     "execution_count": 3,
     "metadata": {},
     "output_type": "execute_result"
    }
   ],
   "source": [
    "# Transpose the 2 x 3 matrix [[1,2,3], [4,5,6]] to the 3 x 2 matrix [[1,4], [2,5], [3,6]]\n",
    "# Generalize to transposing n x m matrix to m x n matrix; a straightforward list traversal solution would be nested \n",
    "# for loops\n",
    "\n",
    "mx = [[1,2,3], [4,5,6]]\n",
    "rl = []\n",
    "for i in range(len(mx[0])):\n",
    "    rll = []\n",
    "    for l in mx:\n",
    "        rll.append(l[i])\n",
    "    rl.append(rll)\n",
    "rl"
   ]
  },
  {
   "cell_type": "code",
   "execution_count": null,
   "metadata": {
    "collapsed": true
   },
   "outputs": [],
   "source": [
    "# We can morph this nested for loop solution into the more pythonic nested list comprehension solution:\n",
    "\n",
    "mx = [[1,2,3], [4,5,6]]\n",
    "[[l[i] for l in mx] for i in range(len(mx[0]))]"
   ]
  },
  {
   "cell_type": "code",
   "execution_count": null,
   "metadata": {
    "collapsed": true
   },
   "outputs": [],
   "source": [
    "# But the seasoned python pro will probably use zip and the unary unpack (*) operator (https://goo.gl/bHWS2S)\n",
    "# on top of that: the zip() solution is faster\n",
    "\n",
    "# <your code goes here>\n",
    "!!!"
   ]
  },
  {
   "cell_type": "code",
   "execution_count": null,
   "metadata": {
    "collapsed": true
   },
   "outputs": [],
   "source": [
    "# Sneak preview for next week, the easy way with numpy!!\n",
    "import numpy as np\n",
    "a = np.array([[1, 2], [3, 4]])\n",
    "print(a)\n",
    "a.transpose()      # a.T also works!"
   ]
  },
  {
   "cell_type": "markdown",
   "metadata": {},
   "source": [
    "## Dictionary Exercises"
   ]
  },
  {
   "cell_type": "code",
   "execution_count": null,
   "metadata": {
    "collapsed": true
   },
   "outputs": [],
   "source": [
    "# You all know dictionaries (associative arrays) from C# and Java; here is how you define them in Python\n",
    "\n",
    "d = {'k1': [1], 'k2': [2], 'k3': [3]}\n",
    "d['k2'] = 3\n",
    "d['k4'] = [4]    # you can dynamically add to the dict\n",
    "\n",
    "d"
   ]
  },
  {
   "cell_type": "code",
   "execution_count": null,
   "metadata": {
    "collapsed": true
   },
   "outputs": [],
   "source": [
    "# Or:\n",
    "keys = ['k1','k2','k3']\n",
    "values = [[1],[2],[3]]\n",
    "dict(zip(keys, values))    # zip() returns iterable of tuples that can be converted into dictionary"
   ]
  },
  {
   "cell_type": "code",
   "execution_count": null,
   "metadata": {
    "collapsed": true
   },
   "outputs": [],
   "source": [
    "# Or, using dict comprehension\n",
    "{k: v for k, v in zip(keys, values)}"
   ]
  },
  {
   "cell_type": "code",
   "execution_count": null,
   "metadata": {
    "collapsed": true
   },
   "outputs": [],
   "source": [
    "# You might be tempted to do {k: v for k in keys for v in values}\n",
    "# Why doesn't this work?\n",
    "keys = ['k1','k2','k3']\n",
    "values = [[1],[2],[3]]\n",
    "{k: v for k in keys for v in values}"
   ]
  },
  {
   "cell_type": "markdown",
   "metadata": {},
   "source": [
    "This gave the wrong result because _[... your explanation goes here]_"
   ]
  },
  {
   "cell_type": "code",
   "execution_count": null,
   "metadata": {
    "collapsed": true
   },
   "outputs": [],
   "source": [
    "# Create a Python function that returns a word count dictionary for a piece of text\n",
    "# e.g. count_words(\"This and this and this also\") == {'this': 3, 'and': 2, 'also': 1}\n",
    "\n",
    "def count_words(s):\n",
    "    d = {}\n",
    "    # <your code goes here>\n",
    "    return d\n",
    "\n",
    "d = count_words(\"This and this and this also\")\n",
    "\n",
    "assert d == {'this': 3, 'and': 2, 'also': 1}\n",
    "print('ok')"
   ]
  },
  {
   "cell_type": "code",
   "execution_count": null,
   "metadata": {
    "collapsed": true
   },
   "outputs": [],
   "source": [
    "# Now solve the same problem using the built-in Counter() function\n",
    "\n",
    "from collections import Counter\n",
    "\n",
    "s = 'This and this and this also'\n",
    "# d = <your code using Counter goes here>\n",
    "\n",
    "assert d == {'this': 3, 'and': 2, 'also': 1}\n",
    "print('ok')"
   ]
  }
 ],
 "metadata": {
  "kernelspec": {
   "display_name": "Python 3",
   "language": "python",
   "name": "python3"
  },
  "language_info": {
   "codemirror_mode": {
    "name": "ipython",
    "version": 3
   },
   "file_extension": ".py",
   "mimetype": "text/x-python",
   "name": "python",
   "nbconvert_exporter": "python",
   "pygments_lexer": "ipython3",
   "version": "3.6.3"
  }
 },
 "nbformat": 4,
 "nbformat_minor": 1
}
